{
 "cells": [
  {
   "cell_type": "code",
   "execution_count": 1,
   "metadata": {},
   "outputs": [
    {
     "name": "stdout",
     "output_type": "stream",
     "text": [
      "The following information is collected for statistical purposes and\n",
      "will not be published, distributed or otherwise sold to any third party.\n",
      "\n",
      "You must be a United States resident between the ages of 18-50 to complete\n",
      "this survey. A United States resident is anyone who resides within the\n",
      "50 States.\n",
      "\n",
      "This survey consists of 20 questions. The estimated time to complete this survey is 10 minutes.\n",
      "Please take your time reading and answering each question. You will not be able to change your answers.\n",
      "\n",
      "What is your first name?\n",
      "Please enter your name: mark\n",
      "Welcome Mark\n",
      "Are you a resident of the United States?\n",
      "[Please enter Yes or No]: y\n",
      "Great! You are a United States resident.\n",
      "Are you able to complete this survey in English?\n",
      "[Please enter Yes or No]: y\n",
      "Great! We will continue in English.\n",
      "Please select your gender:\n",
      "[Please enter Male, Female or Other]: m\n",
      "You entered Male\n",
      "Please enter your age: [Age must be between 18 and 50]\n",
      "Please enter your age: 34\n",
      "Great! Your age is 34, which is within the correct range.\n",
      "Which of the following best describes your race or ethnicity?\n",
      "[Please enter White, Black, Hispanic, Asian, Native American, Mixed or Other]: black\n",
      "Great! You listed your race as Black\n"
     ]
    },
    {
     "ename": "FileNotFoundError",
     "evalue": "[Errno 2] No such file or directory: '../zipcode_api_key.txt'",
     "output_type": "error",
     "traceback": [
      "\u001b[0;31m---------------------------------------------------------------------------\u001b[0m",
      "\u001b[0;31mFileNotFoundError\u001b[0m                         Traceback (most recent call last)",
      "\u001b[0;32m<ipython-input-1-2b4f91db6c7b>\u001b[0m in \u001b[0;36m<module>\u001b[0;34m\u001b[0m\n\u001b[0;32m----> 1\u001b[0;31m \u001b[0;32mfrom\u001b[0m \u001b[0msrc\u001b[0m \u001b[0;32mimport\u001b[0m \u001b[0mpySurvey\u001b[0m\u001b[0;34m\u001b[0m\u001b[0;34m\u001b[0m\u001b[0m\n\u001b[0m",
      "\u001b[0;32m~/Documents/GitHub/pySurvey/src/pySurvey.py\u001b[0m in \u001b[0;36m<module>\u001b[0;34m\u001b[0m\n\u001b[1;32m    110\u001b[0m \u001b[0;34m\u001b[0m\u001b[0m\n\u001b[1;32m    111\u001b[0m \u001b[0;31m# read api key from file into API_KEY variable\u001b[0m\u001b[0;34m\u001b[0m\u001b[0;34m\u001b[0m\u001b[0;34m\u001b[0m\u001b[0m\n\u001b[0;32m--> 112\u001b[0;31m \u001b[0;32mwith\u001b[0m \u001b[0mopen\u001b[0m\u001b[0;34m(\u001b[0m\u001b[0mapi_file_path\u001b[0m\u001b[0;34m)\u001b[0m \u001b[0;32mas\u001b[0m \u001b[0mapi_file\u001b[0m\u001b[0;34m:\u001b[0m\u001b[0;34m\u001b[0m\u001b[0;34m\u001b[0m\u001b[0m\n\u001b[0m\u001b[1;32m    113\u001b[0m     \u001b[0mAPI_KEY\u001b[0m \u001b[0;34m=\u001b[0m \u001b[0mapi_file\u001b[0m\u001b[0;34m.\u001b[0m\u001b[0mread\u001b[0m\u001b[0;34m(\u001b[0m\u001b[0;34m)\u001b[0m\u001b[0;34m\u001b[0m\u001b[0;34m\u001b[0m\u001b[0m\n\u001b[1;32m    114\u001b[0m \u001b[0;34m\u001b[0m\u001b[0m\n",
      "\u001b[0;31mFileNotFoundError\u001b[0m: [Errno 2] No such file or directory: '../zipcode_api_key.txt'"
     ]
    }
   ],
   "source": [
    "from src import pySurvey"
   ]
  },
  {
   "cell_type": "code",
   "execution_count": null,
   "metadata": {},
   "outputs": [],
   "source": []
  }
 ],
 "metadata": {
  "kernelspec": {
   "display_name": "Python 3",
   "language": "python",
   "name": "python3"
  },
  "language_info": {
   "codemirror_mode": {
    "name": "ipython",
    "version": 3
   },
   "file_extension": ".py",
   "mimetype": "text/x-python",
   "name": "python",
   "nbconvert_exporter": "python",
   "pygments_lexer": "ipython3",
   "version": "3.8.3"
  }
 },
 "nbformat": 4,
 "nbformat_minor": 4
}
